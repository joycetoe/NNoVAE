{
 "cells": [
  {
   "cell_type": "markdown",
   "metadata": {},
   "source": [
    "activate conda environment anopheles.yml"
   ]
  },
  {
   "cell_type": "code",
   "execution_count": 2,
   "metadata": {},
   "outputs": [],
   "source": [
    "import matplotlib.pyplot as plt\n",
    "import pandas as pd\n",
    "import numpy as np\n",
    "import itertools\n",
    "import sys\n",
    "import seaborn\n",
    "from matplotlib.patches import Rectangle\n",
    "import matplotlib.patches as mpatches\n",
    "\n",
    "import os, io, random\n",
    "import string"
   ]
  },
  {
   "cell_type": "code",
   "execution_count": 3,
   "metadata": {},
   "outputs": [],
   "source": [
    "#import files\n",
    "refbase = pd.read_csv(\"../../data/haplotypes-NNv1.csv\")\n",
    "td = pd.read_csv(\"../1_species-groups-thresholds/sample_info.csv\", index_col=0)\n",
    "samples = td.index.values"
   ]
  },
  {
   "cell_type": "code",
   "execution_count": 4,
   "metadata": {},
   "outputs": [],
   "source": [
    "def construct_kmer_dict(k):\n",
    "    labels = []\n",
    "    for i in itertools.product('ACGT', repeat=k):\n",
    "        labels.append(''.join(i))\n",
    "    kmerdict = dict(zip(labels, np.arange(4**k)))\n",
    "    return(kmerdict)"
   ]
  },
  {
   "cell_type": "code",
   "execution_count": 5,
   "metadata": {},
   "outputs": [],
   "source": [
    "def assign_combUID(haplotypes): \n",
    "    # assign IDs to unique sequences\n",
    "    combuids = dict()\n",
    "    for tgt, group in haplotypes.groupby(['target']):\n",
    "        for (i, cons) in enumerate(group['consensus'].unique()):\n",
    "            combuids[str(tgt)+cons] = '{}-{}'.format(tgt, i)\n",
    "    haplotypes['combUID'] = (haplotypes.target.astype('str') + haplotypes.consensus).replace(combuids)\n",
    "    return(haplotypes)"
   ]
  },
  {
   "cell_type": "code",
   "execution_count": 6,
   "metadata": {},
   "outputs": [],
   "source": [
    "def sample_kmer_table(k, seq, no_amp, x):\n",
    "    kmerdict = construct_kmer_dict(k)\n",
    "    table = np.zeros((no_amp, x, 4**k), dtype='int')\n",
    "    for r in seq.index:\n",
    "        combid = str.split(seq.loc[r,'combUID'], '-')\n",
    "        t, u = int(combid[0]), int(combid[1])\n",
    "        sq = seq.loc[r,'consensus']\n",
    "        for i in np.arange(len(sq)-(k-1)):\n",
    "            table[t,u,kmerdict[sq[i:i+k]]] += 1\n",
    "    return(table)"
   ]
  },
  {
   "cell_type": "code",
   "execution_count": 7,
   "metadata": {},
   "outputs": [],
   "source": [
    "def construct_unique_kmer_array(k, hap, no_amp):\n",
    "    # assign IDs to unique sequences if column combUID does not exist\n",
    "    if not 'combUID' in hap.columns:\n",
    "        hap = assign_combUID(hap)\n",
    "    \n",
    "    maxallele = hap.groupby('target')['combUID'].nunique().max()\n",
    "    \n",
    "    combUIDunique = hap[['combUID', 'consensus']].drop_duplicates()\n",
    "    \n",
    "    kmercombUID = sample_kmer_table(k, combUIDunique, no_amp, maxallele)\n",
    "    \n",
    "    return(kmercombUID, hap)"
   ]
  },
  {
   "cell_type": "code",
   "execution_count": 8,
   "metadata": {},
   "outputs": [
    {
     "data": {
      "text/plain": [
       "True"
      ]
     },
     "execution_count": 8,
     "metadata": {},
     "output_type": "execute_result"
    }
   ],
   "source": [
    "#Assign combUIDs to refdatabase\n",
    "refbase = assign_combUID(refbase)\n",
    "#Add column with zygosity information\n",
    "#Add allelic zygosity\n",
    "zygosity = 2/refbase.groupby(['s_Sample', 'target'])['combUID'].nunique()\n",
    "zygosity = pd.DataFrame(zygosity).reset_index()\n",
    "zygosity_dict = dict(zip(zygosity.s_Sample + zygosity.target.astype('str'), zygosity.combUID))\n",
    "refbase['zygosity'] = (refbase.s_Sample + refbase.target.astype('str')).replace(zygosity_dict)\n",
    "#Check that all samples sum to 2\n",
    "(refbase.groupby(['s_Sample', 'target'])['zygosity'].sum()==2).all()"
   ]
  },
  {
   "cell_type": "code",
   "execution_count": 9,
   "metadata": {},
   "outputs": [],
   "source": [
    "#Include group information in refbase dataframe\n",
    "tdfdict = dict(zip(td.index, td.fine_sgp))\n",
    "tdidict = dict(zip(td.index, td.intermediate_sgp))\n",
    "tdcdict = dict(zip(td.index, td.coarse_sgp))\n",
    "refbase['fine_sgp'] = refbase.s_Sample.map(tdfdict)\n",
    "refbase['intermediate_sgp'] = refbase.s_Sample.map(tdidict)\n",
    "refbase['coarse_sgp'] = refbase.s_Sample.map(tdcdict)"
   ]
  },
  {
   "cell_type": "code",
   "execution_count": 10,
   "metadata": {},
   "outputs": [],
   "source": [
    "#make refbase entries categorical\n",
    "refbase['fine_sgp'] = pd.Categorical(refbase['fine_sgp'], ['Anopheles_marshallii_complex', 'Anopheles_marshallii_cp_sp1',\n",
    "       'Anopheles_theileri', 'Anopheles_moucheti', 'Anopheles_jebudensis',\n",
    "       'Myzomyia_sp1', 'Anopheles_gabonensis', 'Anopheles_funestus',\n",
    "       'Anopheles_rhodesiensis', 'Anopheles_minimus_A',\n",
    "       'Anopheles_culicifacies', 'Anopheles_aconitus', 'Anopheles_rampae',\n",
    "       'Anopheles_maculatus_A', 'Anopheles_maculatus_B',\n",
    "       'Anopheles_maculipalpis', 'Anopheles_annularis',\n",
    "       'Anopheles_jamesii', 'Anopheles_stephensi',\n",
    "       'Anopheles_gambiae_coluzzii', 'Anopheles_arabiensis',\n",
    "       'Anopheles_gambiae_cp_sp1', 'Anopheles_quadriannulatus',\n",
    "       'Anopheles_melas', 'Anopheles_merus', 'Anopheles_christyi',\n",
    "       'Anopheles_sundaicus_complex', 'Anopheles_vagus',\n",
    "       'Anopheles_dirus_A', 'Anopheles_balabacensis', 'Anopheles_cracens',\n",
    "       'Anopheles_koliensis', 'Anopheles_farauti',\n",
    "       'Anopheles_punctulatus', 'Anopheles_tessellatus',\n",
    "       'Anopheles_coustani_cp_cl3', 'Anopheles_coustani_cp_cl2', \n",
    "       'Anopheles_coustani_cp_cl1', 'Anopheles_hyrcanus_gp_sp1', \n",
    "       'Anopheles_hyrcanus_gp_sp2', 'Anopheles_sinensis',\n",
    "       'Anopheles_barbirostris', 'Anopheles_atroparvus',\n",
    "       'Anopheles_implexus', 'Anopheles_nili_gp_sp3',\n",
    "       'Anopheles_nili_gp_sp2', 'Anopheles_nili_gp_sp1',\n",
    "       'Anopheles_carnevalei', 'Anopheles_vinckei', 'Anopheles_dureni',\n",
    "       'Anopheles_aquasalis', 'Anopheles_oryzalimnetes',\n",
    "       'Anopheles_darlingi', 'Anopheles_albimanus', 'Anopheles_cruzii',\n",
    "       'Anopheles_bellator'], ordered=True)\n",
    "refbase['intermediate_sgp'] = pd.Categorical(refbase['intermediate_sgp'],['Anopheles_marshallii_group', 'Anopheles_moucheti_group',\n",
    "       'Myzomyia_sp1', 'Anopheles_gabonensis', 'Anopheles_funestus',\n",
    "       'Anopheles_rhodesiensis', 'Anopheles_minimus_A',\n",
    "       'Anopheles_culicifacies', 'Anopheles_aconitus',\n",
    "       'Anopheles_maculatus_group', 'Anopheles_maculipalpis',\n",
    "       'Anopheles_annularis', 'Anopheles_jamesii', 'Anopheles_stephensi',\n",
    "       'Anopheles_gambiae_complex', 'Anopheles_christyi',\n",
    "       'Anopheles_sundaicus_complex', 'Anopheles_vagus',\n",
    "       'Anopheles_dirus_complex', 'Anopheles_punctulatus_group',\n",
    "       'Anopheles_tessellatus', 'Anopheles_coustani_complex',\n",
    "       'Anopheles_hyrcanus_gp_sp1', 'Anopheles_sinensis_group',\n",
    "       'Anopheles_barbirostris', 'Anopheles_atroparvus',\n",
    "       'Anopheles_implexus', 'Anopheles_nili_group', 'Anopheles_vinckei',\n",
    "       'Anopheles_dureni', 'Anopheles_aquasalis',\n",
    "       'Anopheles_oryzalimnetes', 'Anopheles_darlingi',\n",
    "       'Anopheles_albimanus', 'Kerteszia_subgenus'], ordered=True)\n",
    "refbase['coarse_sgp'] = pd.Categorical(refbase['coarse_sgp'], ['Myzomyia_Neocellia_series', 'Pyretophorus_series',\n",
    "       'Neomyzomyia_series_I', 'Myzorhynchus_series', 'Christya_series',\n",
    "       'Neomyzomyia_series_II', 'Neomyzomyia_series_III',\n",
    "       'Nyssorhynchus_subgenus', 'Kerteszia_subgenus'], ordered=True)"
   ]
  },
  {
   "cell_type": "code",
   "execution_count": 11,
   "metadata": {},
   "outputs": [],
   "source": [
    "#find the nearest neighbours of a given individual at a given target\n",
    "def individual_combUID_dist(amp, a, samp1, refkmers, sampleneighbours):\n",
    "    #sequences from individual\n",
    "    sqic = amp.loc[amp.s_Sample == samp1, 'combUID'].unique()\n",
    "    #dropout sample from haplotypes\n",
    "    ampf = amp.copy()\n",
    "    ampf.drop(ampf.loc[ampf.s_Sample == samp1].index, inplace=True)\n",
    "    #allowed matching sequences\n",
    "    sqmc = ampf['combUID'].str.split('-', expand=True)[1]\n",
    "    #array of allowed matches\n",
    "    sqar = np.isin(np.arange(refkmers.shape[1]).astype('str'), sqmc)\n",
    "    #zygosity of individual\n",
    "    z = 2/len(sqic)\n",
    "    #compute allelic distances per haplotype\n",
    "    ampf['neighbours'] = 0\n",
    "    for sq in sqic:\n",
    "        s = int(sq.split('-')[1])\n",
    "        #compute distances normalised for sequence length\n",
    "        dists = np.sum(np.abs(refkmers[a,:,:] - refkmers[a,s,:]),axis=1)/np.sum(refkmers[a,:,:] + refkmers[a,s,:], axis=1)\n",
    "        #mask invalid comparisons\n",
    "        dists = np.where(sqar, dists, np.nan)\n",
    "        #find minimisers\n",
    "        minisq = np.arange(refkmers.shape[1])[dists==np.nanmin(dists)]\n",
    "        minisqcb = np.core.defchararray.add(np.array(['{}-'.format(a)]), minisq.astype(str))\n",
    "        #include neighbour column weighed by zygosity\n",
    "        ampf.loc[:,'neighbours'] += ampf.loc[:,'combUID'].isin(minisqcb)\n",
    "    neighbours = pd.DataFrame(ampf.groupby('s_Sample')['neighbours'].sum())\n",
    "    ndict = dict(zip(neighbours.index, neighbours.neighbours))\n",
    "    sampleneighbours[a] = sampleneighbours.index.map(ndict)\n",
    "    return(sampleneighbours)"
   ]
  },
  {
   "cell_type": "code",
   "execution_count": 12,
   "metadata": {},
   "outputs": [],
   "source": [
    "#sampleneighboursagam = pd.DataFrame(index=td.index, columns=np.arange(62))\n",
    "sampleneighboursamou = pd.DataFrame(index=td.index, columns=np.arange(62))\n",
    "sampleneighboursagam = pd.DataFrame(index=td.index, columns=np.arange(62))"
   ]
  },
  {
   "cell_type": "code",
   "execution_count": 13,
   "metadata": {},
   "outputs": [],
   "source": [
    "def construct_assignment_array(refbase, refkmers, sampleneighbours, name):\n",
    "\n",
    "    #restrict to per amplicon\n",
    "    for a in np.arange(62):\n",
    "        amp = refbase.loc[refbase.target == a]\n",
    "        if np.isin(name, amp.s_Sample):\n",
    "            sampleneighbours = individual_combUID_dist(amp, a, name, refkmers, sampleneighbours)\n",
    "\n",
    "        print(\"amplicon \", a, \" done\")\n",
    "    return(sampleneighbours)\n",
    "            \n",
    "    "
   ]
  },
  {
   "cell_type": "code",
   "execution_count": 14,
   "metadata": {},
   "outputs": [],
   "source": [
    "#Make array unique 8mers\n",
    "maxallele = refbase.groupby('target')['combUID'].nunique().max()\n",
    "combUIDunique = refbase[['combUID', 'consensus']].drop_duplicates()\n",
    "ref8mers = sample_kmer_table(8, combUIDunique, 62, maxallele)"
   ]
  },
  {
   "cell_type": "code",
   "execution_count": 15,
   "metadata": {
    "collapsed": true,
    "jupyter": {
     "outputs_hidden": true
    },
    "tags": []
   },
   "outputs": [
    {
     "name": "stdout",
     "output_type": "stream",
     "text": [
      "amplicon  0  done\n",
      "amplicon  1  done\n",
      "amplicon  2  done\n",
      "amplicon  3  done\n",
      "amplicon  4  done\n",
      "amplicon  5  done\n",
      "amplicon  6  done\n",
      "amplicon  7  done\n",
      "amplicon  8  done\n",
      "amplicon  9  done\n",
      "amplicon  10  done\n",
      "amplicon  11  done\n",
      "amplicon  12  done\n",
      "amplicon  13  done\n",
      "amplicon  14  done\n",
      "amplicon  15  done\n",
      "amplicon  16  done\n",
      "amplicon  17  done\n",
      "amplicon  18  done\n",
      "amplicon  19  done\n",
      "amplicon  20  done\n",
      "amplicon  21  done\n",
      "amplicon  22  done\n",
      "amplicon  23  done\n",
      "amplicon  24  done\n",
      "amplicon  25  done\n",
      "amplicon  26  done\n",
      "amplicon  27  done\n",
      "amplicon  28  done\n",
      "amplicon  29  done\n",
      "amplicon  30  done\n",
      "amplicon  31  done\n",
      "amplicon  32  done\n",
      "amplicon  33  done\n",
      "amplicon  34  done\n",
      "amplicon  35  done\n",
      "amplicon  36  done\n",
      "amplicon  37  done\n",
      "amplicon  38  done\n",
      "amplicon  39  done\n",
      "amplicon  40  done\n",
      "amplicon  41  done\n",
      "amplicon  42  done\n",
      "amplicon  43  done\n",
      "amplicon  44  done\n",
      "amplicon  45  done\n",
      "amplicon  46  done\n",
      "amplicon  47  done\n",
      "amplicon  48  done\n",
      "amplicon  49  done\n",
      "amplicon  50  done\n",
      "amplicon  51  done\n",
      "amplicon  52  done\n",
      "amplicon  53  done\n",
      "amplicon  54  done\n",
      "amplicon  55  done\n",
      "amplicon  56  done\n",
      "amplicon  57  done\n",
      "amplicon  58  done\n",
      "amplicon  59  done\n",
      "amplicon  60  done\n",
      "amplicon  61  done\n"
     ]
    }
   ],
   "source": [
    "sampleneighboursamou = construct_assignment_array(refbase, ref8mers, sampleneighboursamou, 'Amou-2-3')"
   ]
  },
  {
   "cell_type": "code",
   "execution_count": 16,
   "metadata": {
    "collapsed": true,
    "jupyter": {
     "outputs_hidden": true
    },
    "tags": []
   },
   "outputs": [
    {
     "name": "stdout",
     "output_type": "stream",
     "text": [
      "amplicon  0  done\n",
      "amplicon  1  done\n",
      "amplicon  2  done\n",
      "amplicon  3  done\n",
      "amplicon  4  done\n",
      "amplicon  5  done\n",
      "amplicon  6  done\n",
      "amplicon  7  done\n",
      "amplicon  8  done\n",
      "amplicon  9  done\n",
      "amplicon  10  done\n",
      "amplicon  11  done\n",
      "amplicon  12  done\n",
      "amplicon  13  done\n",
      "amplicon  14  done\n",
      "amplicon  15  done\n",
      "amplicon  16  done\n",
      "amplicon  17  done\n",
      "amplicon  18  done\n",
      "amplicon  19  done\n",
      "amplicon  20  done\n",
      "amplicon  21  done\n",
      "amplicon  22  done\n",
      "amplicon  23  done\n",
      "amplicon  24  done\n",
      "amplicon  25  done\n",
      "amplicon  26  done\n",
      "amplicon  27  done\n",
      "amplicon  28  done\n",
      "amplicon  29  done\n",
      "amplicon  30  done\n",
      "amplicon  31  done\n",
      "amplicon  32  done\n",
      "amplicon  33  done\n",
      "amplicon  34  done\n",
      "amplicon  35  done\n",
      "amplicon  36  done\n",
      "amplicon  37  done\n",
      "amplicon  38  done\n",
      "amplicon  39  done\n",
      "amplicon  40  done\n",
      "amplicon  41  done\n",
      "amplicon  42  done\n",
      "amplicon  43  done\n",
      "amplicon  44  done\n",
      "amplicon  45  done\n",
      "amplicon  46  done\n",
      "amplicon  47  done\n",
      "amplicon  48  done\n",
      "amplicon  49  done\n",
      "amplicon  50  done\n",
      "amplicon  51  done\n",
      "amplicon  52  done\n",
      "amplicon  53  done\n",
      "amplicon  54  done\n",
      "amplicon  55  done\n",
      "amplicon  56  done\n",
      "amplicon  57  done\n",
      "amplicon  58  done\n",
      "amplicon  59  done\n",
      "amplicon  60  done\n",
      "amplicon  61  done\n"
     ]
    }
   ],
   "source": [
    "sampleneighboursagam = construct_assignment_array(refbase, ref8mers, sampleneighboursagam, 'Agam-35')"
   ]
  },
  {
   "cell_type": "code",
   "execution_count": 17,
   "metadata": {},
   "outputs": [
    {
     "data": {
      "text/plain": [
       "True"
      ]
     },
     "execution_count": 17,
     "metadata": {},
     "output_type": "execute_result"
    }
   ],
   "source": [
    "sampleneighboursagam.isin([0,1,2, np.nan]).all().all()"
   ]
  },
  {
   "cell_type": "code",
   "execution_count": null,
   "metadata": {},
   "outputs": [],
   "source": [
    "sampleneighboursamou.isin([0,1,2, np.nan]).all().all()"
   ]
  },
  {
   "cell_type": "code",
   "execution_count": 18,
   "metadata": {},
   "outputs": [],
   "source": [
    "maskgam = sampleneighboursagam.isnull()\n",
    "maskmou = sampleneighboursamou.isnull()"
   ]
  },
  {
   "cell_type": "code",
   "execution_count": 19,
   "metadata": {},
   "outputs": [],
   "source": [
    "for sn in [sampleneighboursagam,sampleneighboursamou]:\n",
    "    for i in np.arange(62):\n",
    "        sn.loc[sn[i].isnull(), i] = 0"
   ]
  },
  {
   "cell_type": "code",
   "execution_count": 21,
   "metadata": {},
   "outputs": [],
   "source": [
    "for sn in [sampleneighboursagam, sampleneighboursamou]:\n",
    "     sn = sn.astype('int')"
   ]
  },
  {
   "cell_type": "code",
   "execution_count": 22,
   "metadata": {
    "tags": []
   },
   "outputs": [],
   "source": [
    "#dropout the sample itself from the reference set\n",
    "for name, sn, mn in zip(['Agam-35', 'Amou-2-3'], [sampleneighboursagam, sampleneighboursamou], [maskgam, maskmou]):\n",
    "    sn.drop(name, inplace=True)\n",
    "    mn.drop(name, inplace=True)"
   ]
  },
  {
   "cell_type": "code",
   "execution_count": 25,
   "metadata": {},
   "outputs": [],
   "source": [
    "splines = [0.1,3,5,21,27,28,39,43,54,55,60,63.9]\n",
    "ilines = [0.1,3,5,54,55,60,63.9]\n",
    "clines = [5,63.9]"
   ]
  },
  {
   "cell_type": "code",
   "execution_count": 26,
   "metadata": {},
   "outputs": [],
   "source": [
    "flinesm = [0.1,9,10,14,18,20,21,22,26,29,32,33,35,39,41,42,46,50,53,54.9]\n",
    "ilinesm = [0.1,14,20,21,22,26,29,32,33,35,42,46,50,53,54.9]\n",
    "clinesm = [0.1,54.9]"
   ]
  },
  {
   "cell_type": "code",
   "execution_count": 64,
   "metadata": {},
   "outputs": [
    {
     "data": {
      "image/png": "[encoded data removed]",
      "text/plain": [
       "<Figure size 1319.76x864 with 8 Axes>"
      ]
     },
     "metadata": {},
     "output_type": "display_data"
    }
   ],
   "source": [
    "fig, ax= plt.subplots(4,2,figsize = (18.33,12), sharex='col', gridspec_kw={'height_ratios': [12,1,1,1], 'width_ratios': [5.15,6]})\n",
    "for sampleneighbours, mask, i, idxs, idxe in zip([sampleneighboursamou, sampleneighboursagam], [maskmou, maskgam], [0,1], \n",
    "                                    [0, 51], [55, 115]):\n",
    "\n",
    "\n",
    "    snsplot = seaborn.heatmap(sampleneighbours.iloc[idxs:idxe,:].T>0, square = True, vmax = 2, ax=ax[0,i], \n",
    "                          mask=mask.iloc[idxs:idxe,:].T, cbar=False, cmap='flare', yticklabels=False).set(\n",
    "        ylabel='targets', title='subset reference samples', xlabel='')\n",
    "for s in splines:\n",
    "    ax[0,1].vlines(s,0,62, color='k')\n",
    "ax[1,1].set_xticks([])\n",
    "ax[1,1].set_yticks([])\n",
    "ax[1,1].set_ylabel('fine', color=\"#F17236\")\n",
    "for s in splines:\n",
    "    ax[1,1].vlines(s,0,2, color=\"#F17236\")\n",
    "\n",
    "for t,p in zip(['jam', 'ste', 'gmc\\n0.59', 'ara\\n0.15', '6', 'qua\\n0.09', \n",
    "                'mel\\n0.05', 'mer\\n0.05', '7', 'sun', 'vag'], \n",
    "               [1.5, 4, 13, 24, 27.4, 33.5, 41, 48.5,54.4,57.5,62]):\n",
    "    ax[1,1].text(p,1,t, horizontalalignment='center', verticalalignment='center')\n",
    "ax[2,1].set_xticks([])\n",
    "ax[2,1].set_yticks([])\n",
    "ax[2,1].set_ylabel('int', color=\"#F1C646\")\n",
    "for s in ilines:\n",
    "    ax[2,1].vlines(s,0,2, color=\"#F1C646\")\n",
    "for t,p in zip(['jam', 'ste', 'gambiae complex\\n0.99', '7', 'sun', 'vag'], \n",
    "               [1.5, 4, 29.5,54.4, 57.5,62]):\n",
    "    ax[2,1].text(p,1,t, horizontalalignment='center', verticalalignment='center')\n",
    "ax[3,1].set_xticks([])\n",
    "ax[3,1].set_yticks([])\n",
    "ax[3,1].set_ylabel('coarse', color=\"#769370\")\n",
    "for s in clines:\n",
    "    ax[3,1].vlines(s,0,2, color=\"#769370\")\n",
    "for t,p in zip(['MNs','Pyretophorus series\\n 0.99'], [2.5,34.5]):\n",
    "    ax[3,1].text(p,1,t, horizontalalignment='center', verticalalignment='center')\n",
    "\n",
    "for s in flinesm:\n",
    "    ax[0,0].vlines(s,0,62, color='k')\n",
    "ax[1,0].set_xticks([])\n",
    "ax[1,0].set_yticks([])\n",
    "ax[1,0].set_ylabel('fine', color=\"#F17236\")\n",
    "for s in flinesm:\n",
    "    ax[1,0].vlines(s,0,2, color=\"#F17236\")\n",
    "\n",
    "for t,p in zip(['mrs\\n0.01', '1', 'the', 'mou\\n0.92', 'jeb\\n.01', '2', '3', 'fun', 'rho', \n",
    "                'mnA', '4', 'aco', 'ram', 'mcA', '5', 'mac', 'ann', 'jam', 'ste'], \n",
    "               [4.5,9.5,12,16,19,20.5,21.5,24,27.5,30.5,32.5,34,37,40,41.5,44,48,51.5,54]):\n",
    "    ax[1,0].text(p,1,t, horizontalalignment='center', verticalalignment='center')\n",
    "ax[2,0].set_xticks([])\n",
    "ax[2,0].set_yticks([])\n",
    "ax[2,0].set_ylabel('int', color=\"#F1C646\")\n",
    "for s in ilinesm:\n",
    "    ax[2,0].vlines(s,0,2, color=\"#F1C646\")\n",
    "for t,p in zip(['marshallii group\\n0.02', 'moucheti\\ngp 0.93', '2', '3', 'fun\\n0.01', 'rho', \n",
    "                'mnA', '4', 'aco', 'maculatus\\ngroup', 'mac', 'ann', 'jam', 'ste'], \n",
    "               [7,17,20.5,21.5,24,27.5,30.5,32.5,34,38.5,44,48,51.5,54]):\n",
    "    ax[2,0].text(p,1,t, horizontalalignment='center', verticalalignment='center')\n",
    "\n",
    "ax[3,0].set_xticks([])\n",
    "ax[3,0].set_yticks([])\n",
    "ax[3,0].set_ylabel('coarse', color=\"#769370\")\n",
    "for s in clinesm:\n",
    "    ax[3,0].vlines(s,0,2, color=\"#769370\")\n",
    "for t,p in zip(['Myzomyia_Neocellia_series\\n 1.00'], [27.5]):\n",
    "    ax[3,0].text(p,1,t, horizontalalignment='center', verticalalignment='center')\n",
    "    \n",
    "for n, c in enumerate([\"#F17236\", \"#F1C646\", \"#769370\"]):\n",
    "    for p in ['left', 'right', 'top']:\n",
    "        ax[n+1,0].spines[p].set_color(c)\n",
    "        ax[n+1,0].spines[p].set_linewidth(2)\n",
    "        ax[n+1,1].spines[p].set_color(c)\n",
    "        ax[n+1,1].spines[p].set_linewidth(2)\n",
    "ax[3,1].spines['bottom'].set_color(\"#769370\")\n",
    "ax[3,1].spines['bottom'].set_linewidth(2)\n",
    "ax[3,0].spines['bottom'].set_color(\"#769370\")\n",
    "ax[3,0].spines['bottom'].set_linewidth(2)\n",
    "   \n",
    "plt.subplots_adjust(hspace=0, wspace=.1)\n",
    "plt.savefig(\"results/combined_heatmap.png\")"
   ]
  },
  {
   "cell_type": "code",
   "execution_count": null,
   "metadata": {},
   "outputs": [],
   "source": []
  }
 ],
 "metadata": {
  "kernelspec": {
   "display_name": "Python 3",
   "language": "python",
   "name": "python3"
  },
  "language_info": {
   "codemirror_mode": {
    "name": "ipython",
    "version": 3
   },
   "file_extension": ".py",
   "mimetype": "text/x-python",
   "name": "python",
   "nbconvert_exporter": "python",
   "pygments_lexer": "ipython3",
   "version": "3.8.5"
  }
 },
 "nbformat": 4,
 "nbformat_minor": 4
}
