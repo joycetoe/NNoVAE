{
 "cells": [
  {
   "cell_type": "markdown",
   "metadata": {},
   "source": [
    "activate conda environment keras.yml"
   ]
  },
  {
   "cell_type": "code",
   "execution_count": 2,
   "metadata": {},
   "outputs": [],
   "source": [
    "import keras, numpy as np, os, pandas as pd, time, random\n",
    "import subprocess, re, sys, os\n",
    "from matplotlib import pyplot as plt\n",
    "from keras.models import Sequential\n",
    "from keras import layers\n",
    "from keras.layers.core import Lambda\n",
    "from keras import backend as K\n",
    "from keras.models import Model\n",
    "import tensorflow\n",
    "from keras import metrics"
   ]
  },
  {
   "cell_type": "code",
   "execution_count": 3,
   "metadata": {},
   "outputs": [],
   "source": [
    "dim = 3\n",
    "seed = 374173\n",
    "traindir = 'training/'"
   ]
  },
  {
   "cell_type": "code",
   "execution_count": 13,
   "metadata": {},
   "outputs": [],
   "source": [
    "#Specify testset\n",
    "out = \n",
    "KMERS = out+'gambiae_complex/kmers.npy'\n",
    "SAMPLES = out+'gambiae_complex/samples.csv'"
   ]
  },
  {
   "cell_type": "code",
   "execution_count": 14,
   "metadata": {},
   "outputs": [],
   "source": [
    "testkmer = np.load(KMERS)\n",
    "testmeta = pd.read_csv(SAMPLES)\n",
    "testnames = testmeta['SUPPLIER SAMPLE NAME'].values\n",
    "testamplified = testmeta['n_mosquito_targets'].values"
   ]
  },
  {
   "cell_type": "code",
   "execution_count": 8,
   "metadata": {},
   "outputs": [],
   "source": [
    "#load model\n",
    "def sampling(args):\n",
    "    z_mean, z_log_var = args\n",
    "    epsilon = K.random_normal(shape=(K.shape(z_mean)[0], latent_dim),\n",
    "                             mean=0., stddev=1.,seed=seed)\n",
    "    return z_mean + K.exp(z_log_var) * epsilon"
   ]
  },
  {
   "cell_type": "code",
   "execution_count": 9,
   "metadata": {},
   "outputs": [],
   "source": [
    "width = 128\n",
    "latent_dim=dim\n",
    "depth=6\n",
    "batch_size =32"
   ]
  },
  {
   "cell_type": "code",
   "execution_count": 10,
   "metadata": {},
   "outputs": [],
   "source": [
    "#encoder\n",
    "input_seq = keras.Input(shape=(4**8,))\n",
    "x=layers.Dense(width,activation=\"elu\")(input_seq)\n",
    "for i in range(depth-1):\n",
    "    x=layers.Dense(width,activation=\"elu\")(x)\n",
    "z_mean=layers.Dense(latent_dim)(x)\n",
    "z_log_var=layers.Dense(latent_dim)(x)\n",
    "z = layers.Lambda(sampling,output_shape=(latent_dim,), name='z')([z_mean, z_log_var])\n",
    "encoder=Model(input_seq,[z_mean,z_log_var,z],name='encoder')\n",
    "\n",
    "#decoder\n",
    "decoder_input=layers.Input(shape=(latent_dim,),name='z_sampling')\n",
    "x=layers.Dense(width,activation=\"linear\")(decoder_input)\n",
    "for i in range(depth-1):\n",
    "    x=layers.Dense(width,activation=\"elu\")(x)\n",
    "output=layers.Dense(4**8,activation=\"softplus\")(x) #can also use other activations that return strictly positive lambda parameter values\n",
    "decoder=Model(decoder_input,output,name='decoder')\n",
    "\n",
    "#end-to-end vae\n",
    "output_seq = decoder(encoder(input_seq)[2])\n",
    "vae = Model(input_seq, output_seq, name='vae')"
   ]
  },
  {
   "cell_type": "code",
   "execution_count": 11,
   "metadata": {},
   "outputs": [
    {
     "name": "stdout",
     "output_type": "stream",
     "text": [
      "WARNING:tensorflow:From /Users/mariloumercedes/miniconda3/envs/keras/lib/python3.6/site-packages/keras/backend/tensorflow_backend.py:422: The name tf.global_variables is deprecated. Please use tf.compat.v1.global_variables instead.\n",
      "\n"
     ]
    }
   ],
   "source": [
    "#predict latent space coords for all samples from weights minimizing val loss\n",
    "vae.load_weights(traindir+\"_weights.hdf5\")\n",
    "pred=encoder.predict(testkmer,batch_size=batch_size) #returns [mean,sd,sample] for individual distributions in latent space\n",
    "p=pd.DataFrame()\n",
    "\n",
    "p['mean1']=pred[0][:,0]\n",
    "p['mean2']=pred[0][:,1]\n",
    "p['mean3']=pred[0][:,2]\n",
    "p['sd1']=pred[1][:,0]\n",
    "p['sd2']=pred[1][:,1]\n",
    "p['sd3']=pred[1][:,2]\n",
    "pred=p\n",
    "\n",
    "pred['sample_id']=testnames\n",
    "pred['n_mosquito_targets']=testamplified\n",
    "\n",
    "pred.to_csv(out+\"gambiae_complex/latent_coords.csv\", index=False)"
   ]
  },
  {
   "cell_type": "code",
   "execution_count": 12,
   "metadata": {},
   "outputs": [
    {
     "data": {
      "text/plain": [
       "(192, 9)"
      ]
     },
     "execution_count": 12,
     "metadata": {},
     "output_type": "execute_result"
    }
   ],
   "source": [
    "pred.shape"
   ]
  },
  {
   "cell_type": "code",
   "execution_count": 13,
   "metadata": {},
   "outputs": [
    {
     "data": {
      "text/html": [
       "<div>\n",
       "<style scoped>\n",
       "    .dataframe tbody tr th:only-of-type {\n",
       "        vertical-align: middle;\n",
       "    }\n",
       "\n",
       "    .dataframe tbody tr th {\n",
       "        vertical-align: top;\n",
       "    }\n",
       "\n",
       "    .dataframe thead th {\n",
       "        text-align: right;\n",
       "    }\n",
       "</style>\n",
       "<table border=\"1\" class=\"dataframe\">\n",
       "  <thead>\n",
       "    <tr style=\"text-align: right;\">\n",
       "      <th></th>\n",
       "      <th>mean1</th>\n",
       "      <th>mean2</th>\n",
       "      <th>mean3</th>\n",
       "      <th>sd1</th>\n",
       "      <th>sd2</th>\n",
       "      <th>sd3</th>\n",
       "      <th>sample_id</th>\n",
       "      <th>amplified</th>\n",
       "      <th>sample_set</th>\n",
       "    </tr>\n",
       "  </thead>\n",
       "  <tbody>\n",
       "    <tr>\n",
       "      <th>0</th>\n",
       "      <td>-72.516068</td>\n",
       "      <td>-26.807144</td>\n",
       "      <td>1.379827</td>\n",
       "      <td>-35.862930</td>\n",
       "      <td>-33.388355</td>\n",
       "      <td>-17.564011</td>\n",
       "      <td>VBS49531-6367STDY10108697</td>\n",
       "      <td>61</td>\n",
       "      <td>1264-VO-CD-WATSENGA-VMF00164</td>\n",
       "    </tr>\n",
       "    <tr>\n",
       "      <th>1</th>\n",
       "      <td>-83.754318</td>\n",
       "      <td>-38.048141</td>\n",
       "      <td>5.834773</td>\n",
       "      <td>-38.709469</td>\n",
       "      <td>-38.133286</td>\n",
       "      <td>-19.958004</td>\n",
       "      <td>VBS49514-6367STDY10108678</td>\n",
       "      <td>61</td>\n",
       "      <td>1264-VO-CD-WATSENGA-VMF00164</td>\n",
       "    </tr>\n",
       "    <tr>\n",
       "      <th>2</th>\n",
       "      <td>-82.968567</td>\n",
       "      <td>-31.640045</td>\n",
       "      <td>1.573283</td>\n",
       "      <td>-39.427715</td>\n",
       "      <td>-36.838497</td>\n",
       "      <td>-20.185228</td>\n",
       "      <td>VBS49346-6367STDY10108521</td>\n",
       "      <td>61</td>\n",
       "      <td>1264-VO-CD-WATSENGA-VMF00164</td>\n",
       "    </tr>\n",
       "    <tr>\n",
       "      <th>3</th>\n",
       "      <td>-87.582085</td>\n",
       "      <td>-45.285194</td>\n",
       "      <td>9.853935</td>\n",
       "      <td>-39.755886</td>\n",
       "      <td>-41.142803</td>\n",
       "      <td>-20.831636</td>\n",
       "      <td>VBS49476-6367STDY10108647</td>\n",
       "      <td>61</td>\n",
       "      <td>1264-VO-CD-WATSENGA-VMF00164</td>\n",
       "    </tr>\n",
       "    <tr>\n",
       "      <th>4</th>\n",
       "      <td>-89.720230</td>\n",
       "      <td>-35.857395</td>\n",
       "      <td>2.700749</td>\n",
       "      <td>-42.039307</td>\n",
       "      <td>-39.692905</td>\n",
       "      <td>-21.706537</td>\n",
       "      <td>VBS49481-6367STDY10108652</td>\n",
       "      <td>62</td>\n",
       "      <td>1264-VO-CD-WATSENGA-VMF00164</td>\n",
       "    </tr>\n",
       "    <tr>\n",
       "      <th>...</th>\n",
       "      <td>...</td>\n",
       "      <td>...</td>\n",
       "      <td>...</td>\n",
       "      <td>...</td>\n",
       "      <td>...</td>\n",
       "      <td>...</td>\n",
       "      <td>...</td>\n",
       "      <td>...</td>\n",
       "      <td>...</td>\n",
       "    </tr>\n",
       "    <tr>\n",
       "      <th>187</th>\n",
       "      <td>-100.297028</td>\n",
       "      <td>-39.234825</td>\n",
       "      <td>1.940520</td>\n",
       "      <td>-46.175491</td>\n",
       "      <td>-43.477207</td>\n",
       "      <td>-24.440285</td>\n",
       "      <td>VBS49371-6367STDY10108545</td>\n",
       "      <td>62</td>\n",
       "      <td>1264-VO-CD-WATSENGA-VMF00164</td>\n",
       "    </tr>\n",
       "    <tr>\n",
       "      <th>188</th>\n",
       "      <td>-108.496323</td>\n",
       "      <td>-48.609203</td>\n",
       "      <td>6.302334</td>\n",
       "      <td>-48.480412</td>\n",
       "      <td>-47.752865</td>\n",
       "      <td>-25.808863</td>\n",
       "      <td>VBS49342-6367STDY10108517</td>\n",
       "      <td>62</td>\n",
       "      <td>1264-VO-CD-WATSENGA-VMF00164</td>\n",
       "    </tr>\n",
       "    <tr>\n",
       "      <th>189</th>\n",
       "      <td>-88.389000</td>\n",
       "      <td>-36.037556</td>\n",
       "      <td>3.107330</td>\n",
       "      <td>-41.347839</td>\n",
       "      <td>-39.131767</td>\n",
       "      <td>-21.484484</td>\n",
       "      <td>VBS49555-6367STDY10108721</td>\n",
       "      <td>62</td>\n",
       "      <td>1264-VO-CD-WATSENGA-VMF00164</td>\n",
       "    </tr>\n",
       "    <tr>\n",
       "      <th>190</th>\n",
       "      <td>-83.373764</td>\n",
       "      <td>-25.309166</td>\n",
       "      <td>-3.286617</td>\n",
       "      <td>-41.364384</td>\n",
       "      <td>-36.235832</td>\n",
       "      <td>-20.746767</td>\n",
       "      <td>VBS49470-6367STDY10108641</td>\n",
       "      <td>61</td>\n",
       "      <td>1264-VO-CD-WATSENGA-VMF00164</td>\n",
       "    </tr>\n",
       "    <tr>\n",
       "      <th>191</th>\n",
       "      <td>-98.260437</td>\n",
       "      <td>-37.708942</td>\n",
       "      <td>1.593847</td>\n",
       "      <td>-45.958786</td>\n",
       "      <td>-42.926151</td>\n",
       "      <td>-23.840599</td>\n",
       "      <td>VBS49339-6367STDY10108514</td>\n",
       "      <td>62</td>\n",
       "      <td>1264-VO-CD-WATSENGA-VMF00164</td>\n",
       "    </tr>\n",
       "  </tbody>\n",
       "</table>\n",
       "<p>192 rows × 9 columns</p>\n",
       "</div>"
      ],
      "text/plain": [
       "          mean1      mean2     mean3        sd1        sd2        sd3  \\\n",
       "0    -72.516068 -26.807144  1.379827 -35.862930 -33.388355 -17.564011   \n",
       "1    -83.754318 -38.048141  5.834773 -38.709469 -38.133286 -19.958004   \n",
       "2    -82.968567 -31.640045  1.573283 -39.427715 -36.838497 -20.185228   \n",
       "3    -87.582085 -45.285194  9.853935 -39.755886 -41.142803 -20.831636   \n",
       "4    -89.720230 -35.857395  2.700749 -42.039307 -39.692905 -21.706537   \n",
       "..          ...        ...       ...        ...        ...        ...   \n",
       "187 -100.297028 -39.234825  1.940520 -46.175491 -43.477207 -24.440285   \n",
       "188 -108.496323 -48.609203  6.302334 -48.480412 -47.752865 -25.808863   \n",
       "189  -88.389000 -36.037556  3.107330 -41.347839 -39.131767 -21.484484   \n",
       "190  -83.373764 -25.309166 -3.286617 -41.364384 -36.235832 -20.746767   \n",
       "191  -98.260437 -37.708942  1.593847 -45.958786 -42.926151 -23.840599   \n",
       "\n",
       "                     sample_id  amplified                    sample_set  \n",
       "0    VBS49531-6367STDY10108697         61  1264-VO-CD-WATSENGA-VMF00164  \n",
       "1    VBS49514-6367STDY10108678         61  1264-VO-CD-WATSENGA-VMF00164  \n",
       "2    VBS49346-6367STDY10108521         61  1264-VO-CD-WATSENGA-VMF00164  \n",
       "3    VBS49476-6367STDY10108647         61  1264-VO-CD-WATSENGA-VMF00164  \n",
       "4    VBS49481-6367STDY10108652         62  1264-VO-CD-WATSENGA-VMF00164  \n",
       "..                         ...        ...                           ...  \n",
       "187  VBS49371-6367STDY10108545         62  1264-VO-CD-WATSENGA-VMF00164  \n",
       "188  VBS49342-6367STDY10108517         62  1264-VO-CD-WATSENGA-VMF00164  \n",
       "189  VBS49555-6367STDY10108721         62  1264-VO-CD-WATSENGA-VMF00164  \n",
       "190  VBS49470-6367STDY10108641         61  1264-VO-CD-WATSENGA-VMF00164  \n",
       "191  VBS49339-6367STDY10108514         62  1264-VO-CD-WATSENGA-VMF00164  \n",
       "\n",
       "[192 rows x 9 columns]"
      ]
     },
     "execution_count": 13,
     "metadata": {},
     "output_type": "execute_result"
    }
   ],
   "source": [
    "pred"
   ]
  },
  {
   "cell_type": "code",
   "execution_count": null,
   "metadata": {},
   "outputs": [],
   "source": []
  },
  {
   "cell_type": "code",
   "execution_count": null,
   "metadata": {},
   "outputs": [],
   "source": []
  }
 ],
 "metadata": {
  "kernelspec": {
   "display_name": "Python 3",
   "language": "python",
   "name": "python3"
  },
  "language_info": {
   "codemirror_mode": {
    "name": "ipython",
    "version": 3
   },
   "file_extension": ".py",
   "mimetype": "text/x-python",
   "name": "python",
   "nbconvert_exporter": "python",
   "pygments_lexer": "ipython3",
   "version": "3.8.5"
  }
 },
 "nbformat": 4,
 "nbformat_minor": 4
}
