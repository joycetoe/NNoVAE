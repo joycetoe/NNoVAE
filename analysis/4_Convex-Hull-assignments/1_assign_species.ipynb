{
 "cells": [
  {
   "cell_type": "markdown",
   "metadata": {},
   "source": [
    "activate conda environment sklearn.yml"
   ]
  },
  {
   "cell_type": "markdown",
   "metadata": {},
   "source": [
    "## IMPORTS"
   ]
  },
  {
   "cell_type": "code",
   "execution_count": 1,
   "metadata": {},
   "outputs": [],
   "source": [
    "import numpy as np\n",
    "import pandas as pd\n",
    "from scipy.spatial import ConvexHull\n",
    "from scipy.spatial import Delaunay\n",
    "import matplotlib.pyplot as plt\n",
    "from scipy.spatial import Delaunay\n",
    "\n",
    "from numpy.random import default_rng\n",
    "rng = default_rng()\n",
    "\n",
    "from pygel3d import hmesh"
   ]
  },
  {
   "cell_type": "markdown",
   "metadata": {},
   "source": [
    "## FUNCTIONS"
   ]
  },
  {
   "cell_type": "code",
   "execution_count": 2,
   "metadata": {},
   "outputs": [],
   "source": [
    "def hull_dist(hull, positions):\n",
    "    m = hmesh.Manifold().from_triangles(hull.points, hull.simplices)\n",
    "        \n",
    "    dist = hmesh.MeshDistance(m)\n",
    "    result = dist.signed_distance(positions)\n",
    "    return(np.absolute(result))\n",
    "    "
   ]
  },
  {
   "cell_type": "code",
   "execution_count": 3,
   "metadata": {},
   "outputs": [],
   "source": [
    "def in_hull(hull, p):\n",
    "\n",
    "    if not isinstance(hull,Delaunay):\n",
    "        hull = Delaunay(hull)\n",
    "\n",
    "    return hull.find_simplex(p)>=0"
   ]
  },
  {
   "cell_type": "code",
   "execution_count": 5,
   "metadata": {},
   "outputs": [],
   "source": [
    "def hull_plot(gampos, gamhull, ngampos):\n",
    "    plt.scatter(gampos[:,0], gampos[:,2])\n",
    "    plt.scatter(gampos[gamhull.vertices,0], gampos[gamhull.vertices,2])\n",
    "    plt.scatter(ngampos[:,0], ngampos[:,2], alpha=.5)\n",
    "    plt.show()"
   ]
  },
  {
   "cell_type": "markdown",
   "metadata": {},
   "source": [
    "## Assignments"
   ]
  },
  {
   "cell_type": "code",
   "execution_count": 7,
   "metadata": {},
   "outputs": [
    {
     "data": {
      "text/html": [
       "<div>\n",
       "<style scoped>\n",
       "    .dataframe tbody tr th:only-of-type {\n",
       "        vertical-align: middle;\n",
       "    }\n",
       "\n",
       "    .dataframe tbody tr th {\n",
       "        vertical-align: top;\n",
       "    }\n",
       "\n",
       "    .dataframe thead th {\n",
       "        text-align: right;\n",
       "    }\n",
       "</style>\n",
       "<table border=\"1\" class=\"dataframe\">\n",
       "  <thead>\n",
       "    <tr style=\"text-align: right;\">\n",
       "      <th></th>\n",
       "      <th>mean1</th>\n",
       "      <th>mean2</th>\n",
       "      <th>mean3</th>\n",
       "      <th>species</th>\n",
       "    </tr>\n",
       "  </thead>\n",
       "  <tbody>\n",
       "    <tr>\n",
       "      <th>0</th>\n",
       "      <td>-84.875370</td>\n",
       "      <td>-4.078943</td>\n",
       "      <td>-18.389744</td>\n",
       "      <td>Anopheles_gambiae</td>\n",
       "    </tr>\n",
       "    <tr>\n",
       "      <th>1</th>\n",
       "      <td>-92.972690</td>\n",
       "      <td>-11.120659</td>\n",
       "      <td>-16.512430</td>\n",
       "      <td>Anopheles_gambiae</td>\n",
       "    </tr>\n",
       "    <tr>\n",
       "      <th>2</th>\n",
       "      <td>-91.415210</td>\n",
       "      <td>-5.447519</td>\n",
       "      <td>-19.713837</td>\n",
       "      <td>Anopheles_gambiae</td>\n",
       "    </tr>\n",
       "    <tr>\n",
       "      <th>3</th>\n",
       "      <td>-101.515625</td>\n",
       "      <td>-56.799920</td>\n",
       "      <td>14.513015</td>\n",
       "      <td>Anopheles_gambiae</td>\n",
       "    </tr>\n",
       "    <tr>\n",
       "      <th>4</th>\n",
       "      <td>-82.447190</td>\n",
       "      <td>-5.085171</td>\n",
       "      <td>-17.396854</td>\n",
       "      <td>Anopheles_gambiae</td>\n",
       "    </tr>\n",
       "  </tbody>\n",
       "</table>\n",
       "</div>"
      ],
      "text/plain": [
       "        mean1      mean2      mean3            species\n",
       "0  -84.875370  -4.078943 -18.389744  Anopheles_gambiae\n",
       "1  -92.972690 -11.120659 -16.512430  Anopheles_gambiae\n",
       "2  -91.415210  -5.447519 -19.713837  Anopheles_gambiae\n",
       "3 -101.515625 -56.799920  14.513015  Anopheles_gambiae\n",
       "4  -82.447190  -5.085171 -17.396854  Anopheles_gambiae"
      ]
     },
     "execution_count": 7,
     "metadata": {},
     "output_type": "execute_result"
    }
   ],
   "source": [
    "hulls = pd.read_csv(\"convex_hulls_v1.csv\")\n",
    "hulls.head()"
   ]
  },
  {
   "cell_type": "code",
   "execution_count": 8,
   "metadata": {},
   "outputs": [],
   "source": [
    "gampos = hulls.loc[hulls.species=='Anopheles_gambiae', ['mean1', 'mean2', 'mean3']].values\n",
    "gamhull = ConvexHull(gampos)\n",
    "colpos = hulls.loc[hulls.species=='Anopheles_coluzzii', ['mean1', 'mean2', 'mean3']].values\n",
    "colhull = ConvexHull(colpos)\n",
    "arapos = hulls.loc[hulls.species=='Anopheles_arabiensis', ['mean1', 'mean2', 'mean3']].values\n",
    "arahull = ConvexHull(arapos)\n",
    "tenpos = hulls.loc[hulls.species=='Anopheles_tengrela', ['mean1', 'mean2', 'mean3']].values\n",
    "tenhull = ConvexHull(tenpos)\n",
    "melpos = hulls.loc[hulls.species=='Anopheles_melas', ['mean1', 'mean2', 'mean3']].values\n",
    "melhull = ConvexHull(melpos)\n",
    "merpos = hulls.loc[hulls.species=='Anopheles_merus', ['mean1', 'mean2', 'mean3']].values\n",
    "merhull = ConvexHull(merpos)\n",
    "quadpos = hulls.loc[hulls.species=='Anopheles_quadriannulatus', ['mean1', 'mean2', 'mean3']].values\n",
    "quadhull = ConvexHull(quadpos)\n",
    "bwapos = hulls.loc[hulls.species=='Anopheles_bwambae_fontenillei', ['mean1', 'mean2', 'mean3']].values\n",
    "bwahull = ConvexHull(bwapos)"
   ]
  },
  {
   "cell_type": "code",
   "execution_count": 9,
   "metadata": {},
   "outputs": [
    {
     "data": {
      "text/html": [
       "<div>\n",
       "<style scoped>\n",
       "    .dataframe tbody tr th:only-of-type {\n",
       "        vertical-align: middle;\n",
       "    }\n",
       "\n",
       "    .dataframe tbody tr th {\n",
       "        vertical-align: top;\n",
       "    }\n",
       "\n",
       "    .dataframe thead th {\n",
       "        text-align: right;\n",
       "    }\n",
       "</style>\n",
       "<table border=\"1\" class=\"dataframe\">\n",
       "  <thead>\n",
       "    <tr style=\"text-align: right;\">\n",
       "      <th></th>\n",
       "      <th>dist_to_coll_hull</th>\n",
       "    </tr>\n",
       "  </thead>\n",
       "  <tbody>\n",
       "    <tr>\n",
       "      <th>0</th>\n",
       "      <td>6.309639</td>\n",
       "    </tr>\n",
       "    <tr>\n",
       "      <th>1</th>\n",
       "      <td>13.038807</td>\n",
       "    </tr>\n",
       "    <tr>\n",
       "      <th>2</th>\n",
       "      <td>6.575978</td>\n",
       "    </tr>\n",
       "    <tr>\n",
       "      <th>3</th>\n",
       "      <td>68.123405</td>\n",
       "    </tr>\n",
       "    <tr>\n",
       "      <th>4</th>\n",
       "      <td>7.745610</td>\n",
       "    </tr>\n",
       "  </tbody>\n",
       "</table>\n",
       "</div>"
      ],
      "text/plain": [
       "   dist_to_coll_hull\n",
       "0           6.309639\n",
       "1          13.038807\n",
       "2           6.575978\n",
       "3          68.123405\n",
       "4           7.745610"
      ]
     },
     "execution_count": 9,
     "metadata": {},
     "output_type": "execute_result"
    }
   ],
   "source": [
    "#Check that the distance function works\n",
    "#Should be values 6.30, 13.03, 6.57, 68.12, 7.74\n",
    "\n",
    "test_hull_distance = np.zeros(gampos.shape[0])\n",
    "for i in np.arange(len(test_hull_distance)):\n",
    "    test_hull_distance[i] = hull_dist(colhull, gampos[i])\n",
    "df_test_hull_distance = pd.DataFrame(test_hull_distance, columns=['dist_to_coll_hull'])\n",
    "df_test_hull_distance.head()"
   ]
  },
  {
   "cell_type": "code",
   "execution_count": null,
   "metadata": {},
   "outputs": [],
   "source": [
    "#Import test data\n",
    "testdir = \n",
    "val = pd.read_csv(testdir+'gambiae_complex/latent_coords.csv')\n",
    "print(val.shape)\n",
    "#only samples with at least 50 amplicons\n",
    "val = val.loc[(val.amplified>49)].reset_index()\n",
    "print(val.shape)\n",
    "valX = val[['mean1', 'mean2', 'mean3']].values"
   ]
  },
  {
   "cell_type": "code",
   "execution_count": 52,
   "metadata": {},
   "outputs": [],
   "source": [
    "#First round, assign points inside hulls\n",
    "for label, hull in zip(['Anopheles_gambiae', 'Anopheles_coluzzii', 'Anopheles_arabiensis', 'Anopheles_tengrela', 'Anopheles_merus', 'Anopheles_melas', \n",
    "                                'Anopheles_quadriannulatus', 'Anopheles_bwambae-fontenillei'], \n",
    "                               [gampos, colpos, arapos, tenpos, merpos, melpos, quadpos, bwapos]):\n",
    "    val.loc[in_hull(hull, val[['mean1', 'mean2', 'mean3']].values), 'assigned_species'] = label"
   ]
  },
  {
   "cell_type": "code",
   "execution_count": null,
   "metadata": {},
   "outputs": [],
   "source": [
    "val.groupby('assigned_species', dropna=False)['sample_id'].count()"
   ]
  },
  {
   "cell_type": "code",
   "execution_count": null,
   "metadata": {},
   "outputs": [],
   "source": [
    "#For the remaining points, compute distances to all hulls\n",
    "#The iterative da has to do with teh mysterious variability in distances computed from dataframe and from single point.\n",
    "outside_hulls = valX[val.assigned_species.isnull(),:]\n",
    "distdf = pd.DataFrame(index=val.loc[val.assigned_species.isnull(), 'sample_id'], columns=['Anopheles_gambiae', 'Anopheles_coluzzii', 'Anopheles_arabiensis', 'Anopheles_tengrela', 'Anopheles_merus', 'Anopheles_melas', \n",
    "                                'Anopheles_quadriannulatus', 'Anopheles_bwambae-fontenillei'])\n",
    "for species, hull in zip(['Anopheles_gambiae', 'Anopheles_coluzzii', 'Anopheles_arabiensis', 'Anopheles_tengrela', 'Anopheles_merus', 'Anopheles_melas', \n",
    "                                'Anopheles_quadriannulatus', 'Anopheles_bwambae-fontenillei'], \n",
    "                               [gamhull, colhull, arahull, tenhull, merhull, melhull, quadhull, bwahull]):\n",
    "    da = np.zeros(outside_hulls.shape[0])\n",
    "    for i in np.arange(len(da)):\n",
    "        da[i] = hull_dist(hull, outside_hulls[i])\n",
    "    distdf[species] = da\n",
    "distdf.head()"
   ]
  },
  {
   "cell_type": "code",
   "execution_count": null,
   "metadata": {},
   "outputs": [],
   "source": [
    "#Make summary dataframe with the distances to the closest two hulls and corresponding species\n",
    "distsumdf = pd.DataFrame(index=val.loc[val.assigned_species.isnull(), 'sample_id'])\n",
    "distsumdf['d1'] = distdf.min(axis=1)\n",
    "distsumdf['sp1'] = distdf.idxmin(axis=1)\n",
    "distsumdf['d2'] = distdf.apply(lambda x: x.sort_values()[1], axis=1)\n",
    "distsumdf['sp2'] = distdf.apply(lambda x: x.sort_values().index[1], axis=1)\n",
    "distsumdf.head()"
   ]
  },
  {
   "cell_type": "code",
   "execution_count": 56,
   "metadata": {},
   "outputs": [],
   "source": [
    "#For gambiae-coluzzii stripe no majority rule - taken from the removed points in the convex hull trimming\n",
    "gamcol = distsumdf.loc[(distsumdf.sp1.isin(['Anopheles_gambiae', 'Anopheles_coluzzii'])) \n",
    "                       & (distsumdf.sp2.isin(['Anopheles_gambiae', 'Anopheles_coluzzii']))\n",
    "                      & (distsumdf.d2<14)]"
   ]
  },
  {
   "cell_type": "code",
   "execution_count": null,
   "metadata": {},
   "outputs": [],
   "source": [
    "if gamcol.shape[0]>0:\n",
    "    gcdict = dict('Uncertain_'+gamcol.sp1.str.split('_', expand=True)[1]+'_'+gamcol.sp2.str.split('_', expand=True)[1])\n",
    "    val.loc[val.sample_id.isin(gamcol.index), 'assigned_species'] = val.loc[val.sample_id.isin(gamcol.index), 'sample_id'].map(gcdict)\n",
    "val.groupby('assigned_species', dropna=False)['sample_id'].count()"
   ]
  },
  {
   "cell_type": "code",
   "execution_count": null,
   "metadata": {},
   "outputs": [],
   "source": [
    "#Points that are at least 7 times closer to one convex hulls than to all others are assigned to this hull \n",
    "#to create a 'fuzzy' boundary\n",
    "distsumdf.loc[(7*distsumdf.d1<distsumdf.d2) & ~(distsumdf.index.isin(gamcol.index))].groupby(['sp1', 'sp2'])['sp1'].count()"
   ]
  },
  {
   "cell_type": "code",
   "execution_count": null,
   "metadata": {},
   "outputs": [],
   "source": [
    "sdict = dict(distsumdf.loc[7*distsumdf.d1<distsumdf.d2, 'sp1'])\n",
    "val.loc[val.assigned_species.isnull(), 'assigned_species'] = val.loc[val.assigned_species.isnull(), 'sample_id'].map(sdict)\n",
    "val.groupby('assigned_species', dropna=False)['sample_id'].count()"
   ]
  },
  {
   "cell_type": "code",
   "execution_count": null,
   "metadata": {},
   "outputs": [],
   "source": [
    "distdf.loc[val.loc[val.assigned_species.isnull(), 'sample_id']].apply(lambda x: x<7*x.min(), axis=1).head()"
   ]
  },
  {
   "cell_type": "code",
   "execution_count": null,
   "metadata": {},
   "outputs": [],
   "source": [
    "#The remaining points are assigned to all labels that are ≤ 7 times as far away as the closest hull\n",
    "#In order or hull proximity\n",
    "intermediates = distdf.loc[val.loc[val.assigned_species.isnull(), 'sample_id']].apply(lambda x: 'Uncertain_'+\n",
    "                                    '_'.join([y.split('_')[1] for y in x.sort_values().index[x.sort_values()<7*x.min()]]), axis=1)\n",
    "intermediates.head()"
   ]
  },
  {
   "cell_type": "code",
   "execution_count": null,
   "metadata": {},
   "outputs": [],
   "source": [
    "idict = dict(intermediates)\n",
    "val.loc[val.assigned_species.isnull(), 'assigned_species'] = val.loc[val.assigned_species.isnull(), 'sample_id'].map(idict)\n",
    "val.groupby('assigned_species', dropna=False)['sample_id'].count()"
   ]
  },
  {
   "cell_type": "code",
   "execution_count": 63,
   "metadata": {},
   "outputs": [],
   "source": [
    "val.to_csv(testdir+'gambiae_complex/assignments.tsv', index=False, sep='\\t')"
   ]
  },
  {
   "cell_type": "code",
   "execution_count": null,
   "metadata": {},
   "outputs": [],
   "source": []
  }
 ],
 "metadata": {
  "kernelspec": {
   "display_name": "Python 3",
   "language": "python",
   "name": "python3"
  },
  "language_info": {
   "codemirror_mode": {
    "name": "ipython",
    "version": 3
   },
   "file_extension": ".py",
   "mimetype": "text/x-python",
   "name": "python",
   "nbconvert_exporter": "python",
   "pygments_lexer": "ipython3",
   "version": "3.8.5"
  }
 },
 "nbformat": 4,
 "nbformat_minor": 4
}
